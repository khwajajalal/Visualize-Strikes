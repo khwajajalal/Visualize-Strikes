{
 "cells": [
  {
   "cell_type": "code",
   "execution_count": 1,
   "metadata": {},
   "outputs": [],
   "source": [
    "from bokeh.io import show, output_file\n",
    "from bokeh.palettes import Spectral5\n",
    "from bokeh.plotting import figure\n",
    "from bokeh.sampledata.autompg import autompg as df\n",
    "from bokeh.transform import factor_cmap\n",
    "from bokeh.models import ColumnDataSource\n",
    "from bokeh.models.tools import HoverTool\n",
    "import numpy as np\n",
    "import pandas as pd"
   ]
  },
  {
   "cell_type": "code",
   "execution_count": 2,
   "metadata": {},
   "outputs": [],
   "source": [
    "df = pd.read_csv('weaponsReleasedCleaned.csv')"
   ]
  },
  {
   "cell_type": "code",
   "execution_count": 3,
   "metadata": {},
   "outputs": [],
   "source": [
    "TOOLS = 'save,pan,box_zoom,reset,wheel_zoom,hover'\n",
    "p = figure(title=\"Year-wise Total Munitions Released\", y_axis_type=\"linear\", plot_height = 400,\n",
    "           tools = TOOLS, plot_width = 800)\n",
    "p.xaxis.axis_label = 'Year'\n",
    "p.yaxis.axis_label = 'Total Munitions'\n",
    "\n",
    "p.line(df.year, df.Total,line_color=\"purple\", line_width = 3)\n",
    "p.select_one(HoverTool).tooltips = [\n",
    "    ('year', '@x'),\n",
    "    ('Number of crimes', '@y'),\n",
    "]\n",
    "\n",
    "#output_file(\"line_chart.html\", title=\"Line Chart\")\n",
    "show(p)"
   ]
  },
  {
   "cell_type": "code",
   "execution_count": 24,
   "metadata": {},
   "outputs": [],
   "source": [
    "TOOLS = 'save,pan,box_zoom,reset,wheel_zoom,hover'\n",
    "p = figure(title=\"Month-wise Total Munitions Released\", y_axis_type=\"linear\", plot_height = 400,\n",
    "           tools = TOOLS, plot_width = 800)\n",
    "p.xaxis.axis_label = 'Month'\n",
    "p.yaxis.axis_label = 'Munitions'\n",
    "year = df.iloc[1][1:12].index\n",
    "\n",
    "p.line(df.iloc[1][1:12].index,df.iloc[1][1:12].values, legend=\"2010\", line_color=\"purple\", line_width = 3)\n",
    "\n",
    "show(p)"
   ]
  },
  {
   "cell_type": "code",
   "execution_count": 16,
   "metadata": {},
   "outputs": [],
   "source": []
  },
  {
   "cell_type": "code",
   "execution_count": 22,
   "metadata": {},
   "outputs": [
    {
     "data": {
      "text/plain": [
       "array([405, 341, 337, 339, 426, 610, 695, 516, 597, '663', 308.0],\n",
       "      dtype=object)"
      ]
     },
     "execution_count": 22,
     "metadata": {},
     "output_type": "execute_result"
    }
   ],
   "source": [
    "df.iloc[1][1:12].values\n"
   ]
  },
  {
   "cell_type": "code",
   "execution_count": null,
   "metadata": {},
   "outputs": [],
   "source": []
  }
 ],
 "metadata": {
  "kernelspec": {
   "display_name": "Python (dronestrikes)",
   "language": "python",
   "name": "dronestrikes"
  },
  "language_info": {
   "codemirror_mode": {
    "name": "ipython",
    "version": 3
   },
   "file_extension": ".py",
   "mimetype": "text/x-python",
   "name": "python",
   "nbconvert_exporter": "python",
   "pygments_lexer": "ipython3",
   "version": "3.7.1"
  }
 },
 "nbformat": 4,
 "nbformat_minor": 2
}
